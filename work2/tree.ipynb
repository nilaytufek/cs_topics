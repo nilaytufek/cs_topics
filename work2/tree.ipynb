{
 "cells": [
  {
   "cell_type": "code",
   "execution_count": 12,
   "metadata": {},
   "outputs": [],
   "source": [
    "#trees\n",
    "class Node:\n",
    "    \n",
    "    def __init__(self,val):\n",
    "        self.val=val\n",
    "        self.left=None\n",
    "        self.right=None\n",
    "\n",
    "\n",
    "# bread first search\n",
    "\n",
    "q=[]\n",
    "root = Node(1)\n",
    "rl = Node(2)\n",
    "rr = Node(3)\n",
    "rll = Node(4)\n",
    "rlr = Node(5)\n",
    "rrl=Node(6)\n",
    "\n",
    "root.left=rl\n",
    "root.right=rr\n",
    "rl.left=rll\n",
    "rl.right=rlr\n",
    "rr.left=rrl"
   ]
  },
  {
   "cell_type": "code",
   "execution_count": 19,
   "metadata": {},
   "outputs": [
    {
     "name": "stdout",
     "output_type": "stream",
     "text": [
      "1\n",
      "2\n",
      "4\n",
      "5\n",
      "3\n",
      "6\n"
     ]
    }
   ],
   "source": [
    "#preorder order\n",
    "q = []\n",
    "def preorder(root):\n",
    "    if root == None:\n",
    "        return\n",
    "    print(root.val)\n",
    "    preorder(root.left)\n",
    "    preorder(root.right)\n",
    "    \n",
    "preorder(root)\n"
   ]
  },
  {
   "cell_type": "code",
   "execution_count": 18,
   "metadata": {},
   "outputs": [
    {
     "name": "stdout",
     "output_type": "stream",
     "text": [
      "4\n",
      "5\n",
      "2\n",
      "6\n",
      "3\n",
      "1\n"
     ]
    }
   ],
   "source": [
    "#postporder order\n",
    "q = []\n",
    "def postorder(root):\n",
    "    if root == None:\n",
    "        return\n",
    "    postorder(root.left)\n",
    "    postorder(root.right)\n",
    "    print(root.val)\n",
    "    \n",
    "postorder(root)"
   ]
  },
  {
   "cell_type": "code",
   "execution_count": 17,
   "metadata": {},
   "outputs": [
    {
     "name": "stdout",
     "output_type": "stream",
     "text": [
      "esas 4\n",
      "esas 2\n",
      "esas 5\n",
      "esas 1\n",
      "esas 6\n",
      "esas 3\n"
     ]
    }
   ],
   "source": [
    "#inorder order\n",
    "q = []\n",
    "def inorder(root):\n",
    "    if root == None:\n",
    "        return\n",
    "    \n",
    "    inorder(root.left)\n",
    "    print(\"esas\",root.val)\n",
    "    inorder(root.right)\n",
    "    \n",
    "    \n",
    "inorder(root)"
   ]
  },
  {
   "cell_type": "code",
   "execution_count": null,
   "metadata": {},
   "outputs": [],
   "source": [
    "#post order"
   ]
  },
  {
   "cell_type": "code",
   "execution_count": null,
   "metadata": {},
   "outputs": [],
   "source": [
    "#rbt\n"
   ]
  },
  {
   "cell_type": "code",
   "execution_count": null,
   "metadata": {},
   "outputs": [],
   "source": [
    "#b-tree\n"
   ]
  }
 ],
 "metadata": {
  "kernelspec": {
   "display_name": "Python 3",
   "language": "python",
   "name": "python3"
  },
  "language_info": {
   "codemirror_mode": {
    "name": "ipython",
    "version": 3
   },
   "file_extension": ".py",
   "mimetype": "text/x-python",
   "name": "python",
   "nbconvert_exporter": "python",
   "pygments_lexer": "ipython3",
   "version": "3.6.5"
  }
 },
 "nbformat": 4,
 "nbformat_minor": 2
}
