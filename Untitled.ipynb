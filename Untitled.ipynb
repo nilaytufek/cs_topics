{
 "cells": [
  {
   "cell_type": "code",
   "execution_count": 2,
   "metadata": {},
   "outputs": [],
   "source": [
    "def quick_sort(arr,low,high):\n",
    "    if low >= high:\n",
    "        return \n",
    "    piv_index = partition(arr,low,high)\n",
    "    quick_sort(arr,low,piv_index-1)\n",
    "    quick_sort(arr,piv_index+1,high)"
   ]
  },
  {
   "cell_type": "code",
   "execution_count": 5,
   "metadata": {},
   "outputs": [
    {
     "name": "stdout",
     "output_type": "stream",
     "text": [
      "[52, 12, 4, 3, 1]\n"
     ]
    }
   ],
   "source": [
    "arr = [3,52,1,4,12]\n",
    "quick_sort(arr,0,len(arr)-1)\n",
    "print(arr)"
   ]
  },
  {
   "cell_type": "code",
   "execution_count": 4,
   "metadata": {},
   "outputs": [],
   "source": [
    "def partition(arr,low,high):\n",
    "    \n",
    "    pivot = arr[high]\n",
    "    first = low\n",
    "    \n",
    "    for i in range(low,high):\n",
    "        \n",
    "        if arr[i] > pivot:\n",
    "            arr[i], arr[first] = arr[first], arr[i]\n",
    "            first += 1\n",
    "    \n",
    "    arr[high], arr[first] = arr[first], arr[high]\n",
    "    return first\n",
    "    \n",
    "    "
   ]
  },
  {
   "cell_type": "code",
   "execution_count": 84,
   "metadata": {},
   "outputs": [],
   "source": [
    "def merge_sort(arr):\n",
    "    if len(arr)<2:\n",
    "        return arr\n",
    "    mid = int(len(arr)/2)\n",
    "    left = arr[0:mid]\n",
    "    right = arr[mid:len(arr)]  \n",
    "    left = merge_sort(left)\n",
    "    right = merge_sort(right)\n",
    "    arr = merge(left,right)\n",
    "    return arr\n",
    "\n",
    "\n",
    "\n",
    "    \n",
    "def merge(arr1,arr2):\n",
    "    \n",
    "    arr=[]\n",
    "    i=0\n",
    "    j=0\n",
    "    for cnt in range(len(arr1) + len(arr2)):\n",
    "        if arr1[i] < arr2[j]:\n",
    "            arr.append(arr1[i])\n",
    "            i+=1\n",
    "        else:\n",
    "            arr.append(arr2[j])\n",
    "            j+=1\n",
    "        \n",
    "        if i >= len(arr1):\n",
    "            arr += arr2[j:]\n",
    "            return arr\n",
    "        elif j >= len(arr2):\n",
    "            arr += arr1[i:]\n",
    "            return arr\n",
    "            \n",
    "       \n",
    "    return arr\n",
    "    \n",
    "    \n",
    "    \n",
    "    "
   ]
  },
  {
   "cell_type": "code",
   "execution_count": 63,
   "metadata": {},
   "outputs": [
    {
     "ename": "SyntaxError",
     "evalue": "unexpected EOF while parsing (<ipython-input-63-2b35f48b1503>, line 2)",
     "output_type": "error",
     "traceback": [
      "\u001b[1;36m  File \u001b[1;32m\"<ipython-input-63-2b35f48b1503>\"\u001b[1;36m, line \u001b[1;32m2\u001b[0m\n\u001b[1;33m    \u001b[0m\n\u001b[1;37m    ^\u001b[0m\n\u001b[1;31mSyntaxError\u001b[0m\u001b[1;31m:\u001b[0m unexpected EOF while parsing\n"
     ]
    }
   ],
   "source": [
    "def mergesort_classic(arr):\n",
    "    \n",
    "    \n",
    "    "
   ]
  },
  {
   "cell_type": "code",
   "execution_count": 85,
   "metadata": {},
   "outputs": [
    {
     "data": {
      "text/plain": [
       "[1, 2, 3, 4, 6, 22]"
      ]
     },
     "execution_count": 85,
     "metadata": {},
     "output_type": "execute_result"
    }
   ],
   "source": [
    "arr = [3,2,4,6,1,22]\n",
    "\n",
    "merge_sort(arr)\n"
   ]
  },
  {
   "cell_type": "code",
   "execution_count": null,
   "metadata": {},
   "outputs": [],
   "source": []
  },
  {
   "cell_type": "code",
   "execution_count": null,
   "metadata": {},
   "outputs": [],
   "source": []
  },
  {
   "cell_type": "code",
   "execution_count": null,
   "metadata": {},
   "outputs": [],
   "source": []
  },
  {
   "cell_type": "code",
   "execution_count": null,
   "metadata": {},
   "outputs": [],
   "source": []
  }
 ],
 "metadata": {
  "kernelspec": {
   "display_name": "Python 3",
   "language": "python",
   "name": "python3"
  },
  "language_info": {
   "codemirror_mode": {
    "name": "ipython",
    "version": 3
   },
   "file_extension": ".py",
   "mimetype": "text/x-python",
   "name": "python",
   "nbconvert_exporter": "python",
   "pygments_lexer": "ipython3",
   "version": "3.6.5"
  }
 },
 "nbformat": 4,
 "nbformat_minor": 2
}
