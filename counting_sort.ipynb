{
 "cells": [
  {
   "cell_type": "code",
   "execution_count": 7,
   "metadata": {},
   "outputs": [
    {
     "name": "stdout",
     "output_type": "stream",
     "text": [
      "0\n"
     ]
    }
   ],
   "source": [
    "\n",
    "\n",
    "\n",
    "counting_arr=[0]*201\n",
    "\n",
    "arr = [1,2,4,1,2]\n",
    "index = 0\n",
    "\n",
    "def insert(sub_arr, counting_arr,item):\n",
    "    \n",
    "    sub_arr.append(item)\n",
    "    counting_arr[item] += 1\n",
    "    counting_arr[sub_arr.pop(0)] -= 1\n",
    "\n",
    "    \n",
    "    \n",
    "def get_med(counting_arr, sub_arr, item):\n",
    "    \n",
    "    d = len(sub_arr)\n",
    "    val = 201\n",
    "    if d%2 == 1:\n",
    "        for cnt in range(d):\n",
    "            val += counting_arr[cnt]\n",
    "            if val>=(d+1)/2:\n",
    "                return cnt\n",
    "        print(\"problem 1\")\n",
    "    \n",
    "    else:\n",
    "        m1 = 0\n",
    "        m2 = 0\n",
    "        for cnt in range(d):\n",
    "            val += counting_arr[cnt]            \n",
    "            if val>=d/2 + 1:\n",
    "                m2 = cnt\n",
    "                return (m1+m2)/2\n",
    "            if counting_arr[cnt]!=0:\n",
    "                m1 = cnt\n",
    "        print(\"problem 2\")   \n",
    "        \n",
    "d=5\n",
    "cnt=0\n",
    "sub_arr = arr[:d] \n",
    "\n",
    "for i in range(d):\n",
    "    counting_arr[arr[i]] += 1\n",
    "\n",
    "for item in arr[d:]:    \n",
    "    med = get_med(counting_arr, sub_arr, item)\n",
    "    if item >= 2*med:\n",
    "        cnt += 1\n",
    "    insert(sub_arr, counting_arr, item)\n",
    "    \n",
    "print(cnt)\n",
    "    \n",
    "    \n",
    "    \n",
    "\n",
    "\n"
   ]
  }
 ],
 "metadata": {
  "kernelspec": {
   "display_name": "Python 3",
   "language": "python",
   "name": "python3"
  },
  "language_info": {
   "codemirror_mode": {
    "name": "ipython",
    "version": 3
   },
   "file_extension": ".py",
   "mimetype": "text/x-python",
   "name": "python",
   "nbconvert_exporter": "python",
   "pygments_lexer": "ipython3",
   "version": "3.6.5"
  }
 },
 "nbformat": 4,
 "nbformat_minor": 2
}
