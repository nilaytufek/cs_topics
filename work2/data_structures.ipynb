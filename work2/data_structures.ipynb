{
 "cells": [
  {
   "cell_type": "code",
   "execution_count": 79,
   "metadata": {},
   "outputs": [
    {
     "name": "stdout",
     "output_type": "stream",
     "text": [
      "1\n",
      "2\n",
      "3\n",
      "4\n",
      "None\n",
      "None\n"
     ]
    }
   ],
   "source": [
    "#queue\n",
    "class Queue:\n",
    "    \n",
    "    max_size = 10\n",
    "    \n",
    "    def __init__(self):\n",
    "        self.array = [None]*Queue.max_size\n",
    "        self.first = 0\n",
    "        self.last = 0\n",
    "        \n",
    "    def enqueue(self,x):\n",
    "        if self.last!=Queue.max_size:\n",
    "            self.array[self.last] = x\n",
    "            self.last += 1\n",
    "            \n",
    "    def dequeue(self):\n",
    "        \n",
    "        if self.first != self.last:\n",
    "            tmp = self.array[self.first]\n",
    "            self.array[self.first] = None\n",
    "            self.first += 1\n",
    "            \n",
    "            return tmp\n",
    "            \n",
    "q1 = Queue()   \n",
    "\n",
    "q1.enqueue(1)\n",
    "q1.enqueue(2)   \n",
    "q1.enqueue(3)  \n",
    "c = q1.dequeue()\n",
    "print(c)\n",
    "q1.enqueue(4)  \n",
    "c = q1.dequeue()\n",
    "print(c)\n",
    "c = q1.dequeue()\n",
    "print(c)\n",
    "c = q1.dequeue()\n",
    "print(c)\n",
    "c = q1.dequeue()\n",
    "print(c)\n",
    "c = q1.dequeue()\n",
    "print(c)"
   ]
  },
  {
   "cell_type": "code",
   "execution_count": 57,
   "metadata": {},
   "outputs": [
    {
     "name": "stdout",
     "output_type": "stream",
     "text": [
      "[0, 1, 2, 3, 4]\n",
      "None\n",
      "4\n",
      "3\n",
      "[1, 2]\n"
     ]
    }
   ],
   "source": [
    "#queue from list\n",
    "\n",
    "q = [1,2,3,4]\n",
    "\n",
    "q.insert(0,0)\n",
    "print(q)\n",
    "c = q.pop()\n",
    "print(c)\n",
    "c = q.pop()\n",
    "print(c)\n",
    "c = q.pop()\n",
    "print(c)\n",
    "print(q)\n"
   ]
  },
  {
   "cell_type": "code",
   "execution_count": 24,
   "metadata": {},
   "outputs": [
    {
     "name": "stdout",
     "output_type": "stream",
     "text": [
      "True\n",
      "False\n",
      "3\n",
      "4\n",
      "2\n",
      "False\n",
      "1\n",
      "True\n",
      "None\n",
      "True\n"
     ]
    }
   ],
   "source": [
    "#stack\n",
    "\n",
    "class Stack:\n",
    "    max_size = 10\n",
    "    def __init__(self):\n",
    "        self.array = [None]*Stack.max_size\n",
    "        self.index = 0\n",
    "    def push(self,x):\n",
    "        self.array[self.index] = x\n",
    "        self.index += 1\n",
    "    def pop(self):\n",
    "        if self.index == 0:\n",
    "            return None\n",
    "        self.index -= 1\n",
    "        return self.array[self.index]\n",
    "    \n",
    "    def is_empty(self):\n",
    "        if self.index == 0:\n",
    "            return True\n",
    "        return False\n",
    "    \n",
    "\n",
    "s1 = Stack()\n",
    "print(s1.is_empty())\n",
    "s1.push(1)\n",
    "print(s1.is_empty())\n",
    "s1.push(2)\n",
    "s1.push(3)\n",
    "print(s1.pop())\n",
    "s1.push(4)\n",
    "print(s1.pop())\n",
    "print(s1.pop())\n",
    "print(s1.is_empty())\n",
    "print(s1.pop())\n",
    "print(s1.is_empty())\n",
    "print(s1.pop())\n",
    "print(s1.is_empty())"
   ]
  },
  {
   "cell_type": "code",
   "execution_count": 66,
   "metadata": {},
   "outputs": [
    {
     "name": "stdout",
     "output_type": "stream",
     "text": [
      "[1, 2, 3, 4, 5]\n",
      "[1, 2, 3, 4]\n"
     ]
    }
   ],
   "source": [
    "#list as a stack:\n",
    "\n",
    "stack = [1,2,3,4]\n",
    "stack.append(5)\n",
    "print(stack)\n",
    "stack.pop()\n",
    "print(stack)"
   ]
  },
  {
   "cell_type": "code",
   "execution_count": 63,
   "metadata": {},
   "outputs": [
    {
     "name": "stdout",
     "output_type": "stream",
     "text": [
      "[1, 2, 'a', 'b', 'c', 3, 4]\n",
      "4 [1, 2, 'a', 'b', 'c', 3]\n",
      "2 [1, 'a', 'b', 'c', 3]\n",
      "[1, 'a', 'b', 3]\n"
     ]
    }
   ],
   "source": [
    "my_list = [1,2,\"a\",\"c\",3]\n",
    "\n",
    "my_list.append(4)\n",
    "my_list.insert(3,\"b\")\n",
    "print(my_list)\n",
    "\n",
    "last = my_list.pop()\n",
    "print(last,my_list)\n",
    "a = my_list.pop(1)\n",
    "print(a,my_list)\n",
    "my_list.remove(\"c\")\n",
    "print(my_list)\n",
    "\n",
    "\n"
   ]
  },
  {
   "cell_type": "code",
   "execution_count": 82,
   "metadata": {},
   "outputs": [],
   "source": [
    "#heap\n",
    "# immutable lar dinamikler objeler filan pythonda :) "
   ]
  },
  {
   "cell_type": "code",
   "execution_count": 19,
   "metadata": {},
   "outputs": [
    {
     "name": "stdout",
     "output_type": "stream",
     "text": [
      "['a', 'b']\n"
     ]
    }
   ],
   "source": [
    "#hash tables\n",
    "\n",
    "\n",
    "class HashTable:\n",
    "    \n",
    "    max_size = 10\n",
    "    \n",
    "    def __init__(self):\n",
    "        \n",
    "        self.arr = [None]*HashTable.max_size\n",
    "        \n",
    "    def add(self,key,value):\n",
    "        \n",
    "        index = self.findIndex(key)\n",
    "        if self.arr[index] == None:\n",
    "            self.arr[index] = []\n",
    "        self.arr[index].append(value)\n",
    "        \n",
    "    def findIndex(self,key):\n",
    "        \n",
    "        return key%HashTable.max_size\n",
    "        \n",
    "    def search(self,key):\n",
    "        \n",
    "        index = self.findIndex(key)\n",
    "        \n",
    "        if self.arr[index] == None:\n",
    "            return None\n",
    "        \n",
    "        return self.arr[index]\n",
    "    \n",
    "    \n",
    "ht = HashTable()\n",
    "ht.add(1,\"a\")\n",
    "ht.add(1,\"b\")\n",
    "print(ht.search(1))"
   ]
  },
  {
   "cell_type": "code",
   "execution_count": 44,
   "metadata": {},
   "outputs": [
    {
     "name": "stdout",
     "output_type": "stream",
     "text": [
      "[[0, 0, 0, 0]]\n"
     ]
    }
   ],
   "source": [
    "t = [ [0]*4 for i in range(1,2,3)]\n",
    "print(t)\n",
    "\n",
    "\n",
    "\n"
   ]
  },
  {
   "cell_type": "code",
   "execution_count": 56,
   "metadata": {},
   "outputs": [
    {
     "name": "stdout",
     "output_type": "stream",
     "text": [
      "22\n",
      "22\n",
      "2\n",
      "key1\n",
      "key2\n",
      "1\n",
      "22\n",
      "5\n",
      "22\n"
     ]
    }
   ],
   "source": [
    "\n",
    "#dictionary\n",
    "dicta ={\"key1\":1,\"key2\":22}\n",
    "print(dicta[\"key2\"])\n",
    "print(dicta.get(\"key2\"))\n",
    "print(len(dicta))\n",
    "\n",
    "for i in dicta:\n",
    "    print(i)\n",
    "\n",
    "for i in dicta.values():\n",
    "    print(i)\n",
    "    \n",
    "dicta[\"key1\"] = 5\n",
    "\n",
    "for i in dicta.values():\n",
    "    print(i)\n"
   ]
  },
  {
   "cell_type": "code",
   "execution_count": 136,
   "metadata": {},
   "outputs": [
    {
     "name": "stdout",
     "output_type": "stream",
     "text": [
      "2 +\n",
      "1 +\n",
      "7 +\n",
      "8 +\n",
      ".\n",
      "<__main__.Node object at 0x000001536C643860>\n",
      "1 +\n",
      "7 +\n",
      "8 +\n",
      ".\n"
     ]
    }
   ],
   "source": [
    "class Node:\n",
    "    \n",
    "    def __init__(self):\n",
    "        self.value = None\n",
    "        self.next = None \n",
    "\n",
    "class LinkedList:\n",
    "    \n",
    "    def __init__(self):\n",
    "        self.head = Node()\n",
    "        self.tail = self.head\n",
    "        self.cnt = 0\n",
    "        \n",
    "    def insertAtHead(self,val):\n",
    "        \n",
    "        tmp=Node()\n",
    "        tmp.value=val\n",
    "        tmp.next=self.head\n",
    "        self.head=tmp\n",
    "        \n",
    "        if self.cnt == 0:\n",
    "            self.tail = tmp\n",
    "            \n",
    "        self.cnt += 1\n",
    "        \n",
    "    def insertAtTail(self,val):\n",
    "        tmp = Node()\n",
    "        tmp.value = val\n",
    "        \n",
    "        self.tail.next = tmp\n",
    "        self.tail = tmp\n",
    "        \n",
    "        if self.cnt == 0:\n",
    "            self.head = tmp\n",
    "            \n",
    "        self.cnt += 1\n",
    "        \n",
    "    def removeAtHead(self):\n",
    "        \n",
    "        tmp = self.head\n",
    "        \n",
    "        self.head = self.head.next\n",
    "        return tmp\n",
    "    def removeAtTail(self):\n",
    "        \n",
    "        tmp = self.tail\n",
    "        \n",
    "        self.head = self.head.next\n",
    "        return tmp\n",
    "    def printList(self):\n",
    "        tmp = self.head\n",
    "        while tmp.next != None:\n",
    "            print(tmp.value,'+')\n",
    "            tmp=tmp.next\n",
    "        print(\".\")\n",
    "\n",
    "ls = LinkedList()\n",
    "ls.insertAtHead(1)\n",
    "#ls.printList()\n",
    "ls.insertAtHead(2)\n",
    "#ls.printList()\n",
    "\n",
    "ls.insertAtTail(7)\n",
    "ls.insertAtTail(8)\n",
    "ls.insertAtTail(9)\n",
    "ls.printList()  \n",
    "c = ls.removeAtHead()\n",
    "print(c)\n",
    "ls.printList()  "
   ]
  },
  {
   "cell_type": "code",
   "execution_count": 137,
   "metadata": {},
   "outputs": [],
   "source": [
    "#linked list from lib\n",
    "#??"
   ]
  }
 ],
 "metadata": {
  "kernelspec": {
   "display_name": "Python 3",
   "language": "python",
   "name": "python3"
  },
  "language_info": {
   "codemirror_mode": {
    "name": "ipython",
    "version": 3
   },
   "file_extension": ".py",
   "mimetype": "text/x-python",
   "name": "python",
   "nbconvert_exporter": "python",
   "pygments_lexer": "ipython3",
   "version": "3.6.5"
  }
 },
 "nbformat": 4,
 "nbformat_minor": 2
}
