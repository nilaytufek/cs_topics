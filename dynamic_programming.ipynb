{
 "cells": [
  {
   "cell_type": "code",
   "execution_count": 33,
   "metadata": {},
   "outputs": [
    {
     "name": "stdout",
     "output_type": "stream",
     "text": [
      "in 1 1\n",
      "in 2 5\n",
      "in 1 1\n",
      "in 3 8\n",
      "in 1 1\n",
      "in 2 5\n",
      "in 1 1\n",
      "in 2 10\n",
      "in 1 1\n",
      "in 2 5\n",
      "in 1 1\n",
      "in 3 8\n",
      "in 1 1\n",
      "in 2 5\n",
      "in 1 1\n",
      "in 2 13\n",
      "in 1 1\n",
      "in 2 5\n",
      "in 1 1\n",
      "in 3 8\n",
      "in 1 1\n",
      "in 2 5\n",
      "in 1 1\n",
      "in 2 10\n",
      "in 1 1\n",
      "in 2 5\n",
      "in 1 1\n",
      "in 3 8\n",
      "in 1 1\n",
      "in 2 5\n",
      "in 1 1\n",
      "in 6 17\n",
      "in 1 1\n",
      "in 2 5\n",
      "in 1 1\n",
      "in 3 8\n",
      "in 1 1\n",
      "in 2 5\n",
      "in 1 1\n",
      "in 2 10\n",
      "in 1 1\n",
      "in 2 5\n",
      "in 1 1\n",
      "in 3 8\n",
      "in 1 1\n",
      "in 2 5\n",
      "in 1 1\n",
      "in 2 13\n",
      "in 1 1\n",
      "in 2 5\n",
      "in 1 1\n",
      "in 3 8\n",
      "in 1 1\n",
      "in 2 5\n",
      "in 1 1\n",
      "in 2 10\n",
      "in 1 1\n",
      "in 2 5\n",
      "in 1 1\n",
      "in 3 8\n",
      "in 1 1\n",
      "in 2 5\n",
      "in 1 1\n",
      "in 1 18\n",
      "in 1 1\n",
      "in 2 5\n",
      "in 1 1\n",
      "in 3 8\n",
      "in 1 1\n",
      "in 2 5\n",
      "in 1 1\n",
      "in 2 10\n",
      "in 1 1\n",
      "in 2 5\n",
      "in 1 1\n",
      "in 3 8\n",
      "in 1 1\n",
      "in 2 5\n",
      "in 1 1\n",
      "in 2 13\n",
      "in 1 1\n",
      "in 2 5\n",
      "in 1 1\n",
      "in 3 8\n",
      "in 1 1\n",
      "in 2 5\n",
      "in 1 1\n",
      "in 2 10\n",
      "in 1 1\n",
      "in 2 5\n",
      "in 1 1\n",
      "in 3 8\n",
      "in 1 1\n",
      "in 2 5\n",
      "in 1 1\n",
      "in 6 17\n",
      "in 1 1\n",
      "in 2 5\n",
      "in 1 1\n",
      "in 3 8\n",
      "in 1 1\n",
      "in 2 5\n",
      "in 1 1\n",
      "in 2 10\n",
      "in 1 1\n",
      "in 2 5\n",
      "in 1 1\n",
      "in 3 8\n",
      "in 1 1\n",
      "in 2 5\n",
      "in 1 1\n",
      "in 2 13\n",
      "in 1 1\n",
      "in 2 5\n",
      "in 1 1\n",
      "in 3 8\n",
      "in 1 1\n",
      "in 2 5\n",
      "in 1 1\n",
      "in 2 10\n",
      "in 1 1\n",
      "in 2 5\n",
      "in 1 1\n",
      "in 3 8\n",
      "in 1 1\n",
      "in 2 5\n",
      "in 1 1\n",
      "in 2 22\n"
     ]
    },
    {
     "data": {
      "text/plain": [
       "22"
      ]
     },
     "execution_count": 33,
     "metadata": {},
     "output_type": "execute_result"
    }
   ],
   "source": [
    "\n",
    "p=[0,1,5,8,9,10,17,17,20,24,30]\n",
    "n = 4\n",
    "def Cut_Rod(p,n):\n",
    "    if n==0:\n",
    "        return 0\n",
    "    r_arr = [n+1]*10\n",
    "    maximum = 0\n",
    "    index=0\n",
    "    \n",
    "    for i in range(1,n+1):\n",
    "        r_arr[i] = p[i] + Cut_Rod(p,n-i)\n",
    "        \n",
    "        if r_arr[i] > maximum:\n",
    "            maximum = r_arr[i]\n",
    "            index = i\n",
    "            \n",
    "    print(\"in\",index,maximum)\n",
    "    return maximum\n",
    "        \n",
    "    \n",
    "    \n",
    "        \n",
    "Cut_Rod(p,8)\n",
    "    \n",
    "    \n",
    "    \n"
   ]
  },
  {
   "cell_type": "code",
   "execution_count": 2,
   "metadata": {},
   "outputs": [
    {
     "name": "stdout",
     "output_type": "stream",
     "text": [
      "7 8\n",
      "x x\n",
      "m m\n",
      "j j\n",
      "a a\n",
      "u u\n",
      "nilay\n",
      "[[0. 0. 0. 0. 0. 0. 0. 0.]\n",
      " [0. 0. 0. 0. 0. 0. 1. 1.]\n",
      " [0. 1. 1. 1. 1. 1. 1. 1.]\n",
      " [0. 1. 1. 2. 2. 2. 2. 2.]\n",
      " [0. 1. 1. 2. 2. 2. 2. 2.]\n",
      " [0. 1. 1. 2. 3. 3. 3. 3.]\n",
      " [0. 1. 1. 2. 3. 3. 3. 4.]]\n"
     ]
    }
   ],
   "source": [
    "import numpy\n",
    "def LCS(arr1,arr2):\n",
    "    arr1 = \"0\"+arr1\n",
    "    arr2=\"1\" + arr2\n",
    "    len1=len(arr1)\n",
    "    len2=len(arr2)\n",
    "    print(len1,len2)\n",
    "    arr_mem=numpy.zeros((len1,len2))\n",
    "\n",
    "    for i in range(len1-1):\n",
    "        \n",
    "        for j in range(len2-1):\n",
    "            arr_mem[i+1][j+1] = max(arr_mem[i+1][j],arr_mem[i,j+1])\n",
    "            if arr1[i+1] == arr2[j+1]:                \n",
    "                arr_mem[i+1][j+1] += 1\n",
    "                print(arr1[i+1],arr2[j+1])\n",
    "    print(\"nilay\")\n",
    "    print(arr_mem)\n",
    "    \n",
    "arr1 = str(\"xmjyau\")\n",
    "arr2 = str(\"mzjawxu\")\n",
    "LCS(arr1,arr2)"
   ]
  },
  {
   "cell_type": "code",
   "execution_count": 19,
   "metadata": {},
   "outputs": [
    {
     "data": {
      "text/plain": [
       "4"
      ]
     },
     "execution_count": 19,
     "metadata": {},
     "output_type": "execute_result"
    }
   ],
   "source": [
    "def LCS_rec(X,Y,m,n):\n",
    "    if m==0 or n==0:\n",
    "        return 0\n",
    "    \n",
    "    if X[m-1]==Y[n-1]:\n",
    "        return LCS_rec(X,Y,m-1,n-1)+1\n",
    "    \n",
    "    return max(LCS_rec(X,Y,m-1,n),LCS_rec(X,Y,m,n-1))\n",
    "    \n",
    "LCS_rec(arr1,arr2,len(arr1),len(arr2))  \n",
    "    \n",
    "    "
   ]
  },
  {
   "cell_type": "code",
   "execution_count": 30,
   "metadata": {},
   "outputs": [
    {
     "data": {
      "text/plain": [
       "3"
      ]
     },
     "execution_count": 30,
     "metadata": {},
     "output_type": "execute_result"
    }
   ],
   "source": [
    "def LCS_rec(X,Y,Z,m,n,k):\n",
    "    if m==0 or n==0 or k==0:\n",
    "        return 0\n",
    "    \n",
    "    if X[m-1]==Y[n-1] and X[m-1]==Z[k-1]:\n",
    "        return LCS_rec(X,Y,Z,m-1,n-1,k-1)+1\n",
    "    \n",
    "    return max(LCS_rec(X,Y,Z,m-1,n,k),LCS_rec(X,Y,Z,m,n-1,k),LCS_rec(X,Y,Z,m,n,k-1))\n",
    "\n",
    "LCS_rec(arr1,arr2,arr3,len(arr1),len(arr2),len(arr3))  "
   ]
  },
  {
   "cell_type": "code",
   "execution_count": 35,
   "metadata": {},
   "outputs": [
    {
     "ename": "IndexError",
     "evalue": "string index out of range",
     "output_type": "error",
     "traceback": [
      "\u001b[1;31m---------------------------------------------------------------------------\u001b[0m",
      "\u001b[1;31mIndexError\u001b[0m                                Traceback (most recent call last)",
      "\u001b[1;32m<ipython-input-35-953c387b50dd>\u001b[0m in \u001b[0;36m<module>\u001b[1;34m()\u001b[0m\n\u001b[0;32m     29\u001b[0m \u001b[0mY\u001b[0m\u001b[1;33m=\u001b[0m\u001b[1;34m\"BABCA\"\u001b[0m\u001b[1;33m\u001b[0m\u001b[0m\n\u001b[0;32m     30\u001b[0m \u001b[1;33m\u001b[0m\u001b[0m\n\u001b[1;32m---> 31\u001b[1;33m \u001b[0mLC_sub\u001b[0m\u001b[1;33m(\u001b[0m\u001b[0mX\u001b[0m\u001b[1;33m,\u001b[0m\u001b[0mY\u001b[0m\u001b[1;33m)\u001b[0m\u001b[1;33m\u001b[0m\u001b[0m\n\u001b[0m",
      "\u001b[1;32m<ipython-input-35-953c387b50dd>\u001b[0m in \u001b[0;36mLC_sub\u001b[1;34m(X, Y)\u001b[0m\n\u001b[0;32m     11\u001b[0m         \u001b[1;32mwhile\u001b[0m \u001b[0mj\u001b[0m\u001b[1;33m<\u001b[0m\u001b[0mlen\u001b[0m\u001b[1;33m(\u001b[0m\u001b[0mY\u001b[0m\u001b[1;33m)\u001b[0m\u001b[1;33m:\u001b[0m\u001b[1;33m\u001b[0m\u001b[0m\n\u001b[0;32m     12\u001b[0m \u001b[1;33m\u001b[0m\u001b[0m\n\u001b[1;32m---> 13\u001b[1;33m             \u001b[1;32mif\u001b[0m \u001b[0mX\u001b[0m\u001b[1;33m[\u001b[0m\u001b[0mi\u001b[0m\u001b[1;33m]\u001b[0m\u001b[1;33m==\u001b[0m\u001b[0mY\u001b[0m\u001b[1;33m[\u001b[0m\u001b[0mj\u001b[0m\u001b[1;33m]\u001b[0m\u001b[1;33m:\u001b[0m\u001b[1;33m\u001b[0m\u001b[0m\n\u001b[0m\u001b[0;32m     14\u001b[0m                 \u001b[0marr\u001b[0m\u001b[1;33m.\u001b[0m\u001b[0mappend\u001b[0m\u001b[1;33m(\u001b[0m\u001b[0mX\u001b[0m\u001b[1;33m[\u001b[0m\u001b[0mi\u001b[0m\u001b[1;33m]\u001b[0m\u001b[1;33m)\u001b[0m\u001b[1;33m\u001b[0m\u001b[0m\n\u001b[0;32m     15\u001b[0m                 \u001b[0mi\u001b[0m\u001b[1;33m+=\u001b[0m\u001b[1;36m1\u001b[0m\u001b[1;33m\u001b[0m\u001b[0m\n",
      "\u001b[1;31mIndexError\u001b[0m: string index out of range"
     ]
    }
   ],
   "source": [
    "def LC_sub(X,Y):\n",
    "    arr_last=[]\n",
    "    arr=[]\n",
    "    \n",
    "    i=0\n",
    "    j=0\n",
    "    \n",
    "    while i< len(X):\n",
    "        added = False\n",
    "        while j<len(Y):\n",
    "            \n",
    "            if X[i]==Y[j]:                \n",
    "                arr.append(X[i])\n",
    "                i+=1\n",
    "                j+=1\n",
    "                added = True\n",
    "            else:\n",
    "                j+=1\n",
    "                \n",
    "        arr_last.append(arr)\n",
    "        \n",
    "    print(arr_last)\n",
    "    \n",
    "\n",
    "X=\"ABABC\"\n",
    "Y=\"BABCA\"\n",
    "\n",
    "LC_sub(X,Y)"
   ]
  }
 ],
 "metadata": {
  "kernelspec": {
   "display_name": "Python 3",
   "language": "python",
   "name": "python3"
  },
  "language_info": {
   "codemirror_mode": {
    "name": "ipython",
    "version": 3
   },
   "file_extension": ".py",
   "mimetype": "text/x-python",
   "name": "python",
   "nbconvert_exporter": "python",
   "pygments_lexer": "ipython3",
   "version": "3.6.5"
  }
 },
 "nbformat": 4,
 "nbformat_minor": 2
}
