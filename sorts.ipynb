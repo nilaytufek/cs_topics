{
 "cells": [
  {
   "cell_type": "code",
   "execution_count": 36,
   "metadata": {},
   "outputs": [],
   "source": [
    "def quick_sort(arr,low,high):\n",
    "    if low >= high:\n",
    "        return\n",
    "    \n",
    "    middle = partition(arr,low,high)\n",
    "    quick_sort(arr,low,middle-1)\n",
    "    quick_sort(arr,middle+1, high)\n",
    "    \n",
    "def partition(arr,low,high):\n",
    "    \n",
    "    index=low\n",
    "    pivot = arr[high]\n",
    "    \n",
    "    for i in range(low,high):\n",
    "        \n",
    "        if arr[i] < pivot:\n",
    "            arr[index],arr[i] = arr[i],arr[index]\n",
    "            index += 1\n",
    "            \n",
    "    arr[index],arr[high]=arr[high],arr[index]\n",
    "    return index\n",
    "        \n",
    "    \n",
    "    "
   ]
  },
  {
   "cell_type": "code",
   "execution_count": 110,
   "metadata": {},
   "outputs": [],
   "source": [
    "def merge_sort(arr):\n",
    "    \n",
    "    if len(arr)<2:\n",
    "        return arr\n",
    "    \n",
    "    mid = int(len(arr)/2)\n",
    "    \n",
    "    arr1 = merge_sort(arr[:mid])\n",
    "    arr2 = merge_sort(arr[mid:])\n",
    "    arr = merge(arr1,arr2)\n",
    "    return arr\n",
    "\n",
    "def merge(arr1,arr2):\n",
    "    \n",
    "    cnt1=0\n",
    "    cnt2=0\n",
    "    len1=len(arr1)\n",
    "    len2=len(arr2)\n",
    "    arr=[]\n",
    "    \n",
    "    for i in range(len1+len2):\n",
    "        \n",
    "        if cnt1 >= len1:\n",
    "            arr = arr + arr2[cnt2:]\n",
    "            return arr\n",
    "        elif cnt2 >=len2:\n",
    "            arr = arr + arr1[cnt1:]\n",
    "            return arr\n",
    "        \n",
    "        if arr1[cnt1] < arr2[cnt2]:\n",
    "            arr.append(arr1[cnt1])\n",
    "            cnt1 += 1\n",
    "        else:\n",
    "            arr.append(arr2[cnt2])\n",
    "            cnt2 += 1\n",
    "    \n",
    "    \n",
    "    "
   ]
  },
  {
   "cell_type": "code",
   "execution_count": 138,
   "metadata": {},
   "outputs": [],
   "source": [
    "def bubble_sort(arr):\n",
    "    \n",
    "    for i in range(len(arr)):\n",
    "        \n",
    "        for j in range(len(arr)-1):\n",
    "            print(arr,j,arr[j])\n",
    "            if arr[j] > arr[j+1]:\n",
    "                arr[j],arr[j+1]=arr[j+1],arr[j]\n",
    "    \n",
    "    "
   ]
  },
  {
   "cell_type": "code",
   "execution_count": 210,
   "metadata": {},
   "outputs": [],
   "source": [
    "def nilay_sort(arr):\n",
    "    \n",
    "    index=0\n",
    "    cnt=0\n",
    "    for i in range(len(arr)):\n",
    "        smallest = arr[i]\n",
    "        changed=0\n",
    "        print(\"before arr\", arr)\n",
    "        for j in range(i,len(arr)):            \n",
    "            if arr[j]<smallest:\n",
    "                smallest = arr[j]\n",
    "                index=j\n",
    "                changed=1\n",
    "        if changed  ==1:\n",
    "            arr[index],arr[i]  = arr[i],arr[index] \n",
    "        print(\"after arr\", arr)\n",
    "    \n",
    "    "
   ]
  },
  {
   "cell_type": "code",
   "execution_count": 212,
   "metadata": {},
   "outputs": [],
   "source": [
    "arr = [3,4,1,2,11,7,9,22,2,1]"
   ]
  },
  {
   "cell_type": "code",
   "execution_count": 213,
   "metadata": {},
   "outputs": [
    {
     "name": "stdout",
     "output_type": "stream",
     "text": [
      "before arr [3, 4, 1, 2, 11, 7, 9, 22, 2, 1]\n",
      "after arr [1, 4, 3, 2, 11, 7, 9, 22, 2, 1]\n",
      "before arr [1, 4, 3, 2, 11, 7, 9, 22, 2, 1]\n",
      "after arr [1, 1, 3, 2, 11, 7, 9, 22, 2, 4]\n",
      "before arr [1, 1, 3, 2, 11, 7, 9, 22, 2, 4]\n",
      "after arr [1, 1, 2, 3, 11, 7, 9, 22, 2, 4]\n",
      "before arr [1, 1, 2, 3, 11, 7, 9, 22, 2, 4]\n",
      "after arr [1, 1, 2, 2, 11, 7, 9, 22, 3, 4]\n",
      "before arr [1, 1, 2, 2, 11, 7, 9, 22, 3, 4]\n",
      "after arr [1, 1, 2, 2, 3, 7, 9, 22, 11, 4]\n",
      "before arr [1, 1, 2, 2, 3, 7, 9, 22, 11, 4]\n",
      "after arr [1, 1, 2, 2, 3, 4, 9, 22, 11, 7]\n",
      "before arr [1, 1, 2, 2, 3, 4, 9, 22, 11, 7]\n",
      "after arr [1, 1, 2, 2, 3, 4, 7, 22, 11, 9]\n",
      "before arr [1, 1, 2, 2, 3, 4, 7, 22, 11, 9]\n",
      "after arr [1, 1, 2, 2, 3, 4, 7, 9, 11, 22]\n",
      "before arr [1, 1, 2, 2, 3, 4, 7, 9, 11, 22]\n",
      "after arr [1, 1, 2, 2, 3, 4, 7, 9, 11, 22]\n",
      "before arr [1, 1, 2, 2, 3, 4, 7, 9, 11, 22]\n",
      "after arr [1, 1, 2, 2, 3, 4, 7, 9, 11, 22]\n",
      "[1, 1, 2, 2, 3, 4, 7, 9, 11, 22]\n"
     ]
    }
   ],
   "source": [
    "nilay_sort(arr)\n",
    "print(arr)"
   ]
  },
  {
   "cell_type": "code",
   "execution_count": 140,
   "metadata": {},
   "outputs": [
    {
     "name": "stdout",
     "output_type": "stream",
     "text": [
      "[3, 4, 1, 2, 11, 7, 9, 22, 2, 1] 0 3\n",
      "[3, 4, 1, 2, 11, 7, 9, 22, 2, 1] 1 4\n",
      "[3, 1, 4, 2, 11, 7, 9, 22, 2, 1] 2 4\n",
      "[3, 1, 2, 4, 11, 7, 9, 22, 2, 1] 3 4\n",
      "[3, 1, 2, 4, 11, 7, 9, 22, 2, 1] 4 11\n",
      "[3, 1, 2, 4, 7, 11, 9, 22, 2, 1] 5 11\n",
      "[3, 1, 2, 4, 7, 9, 11, 22, 2, 1] 6 11\n",
      "[3, 1, 2, 4, 7, 9, 11, 22, 2, 1] 7 22\n",
      "[3, 1, 2, 4, 7, 9, 11, 2, 22, 1] 8 22\n",
      "[3, 1, 2, 4, 7, 9, 11, 2, 1, 22] 0 3\n",
      "[1, 3, 2, 4, 7, 9, 11, 2, 1, 22] 1 3\n",
      "[1, 2, 3, 4, 7, 9, 11, 2, 1, 22] 2 3\n",
      "[1, 2, 3, 4, 7, 9, 11, 2, 1, 22] 3 4\n",
      "[1, 2, 3, 4, 7, 9, 11, 2, 1, 22] 4 7\n",
      "[1, 2, 3, 4, 7, 9, 11, 2, 1, 22] 5 9\n",
      "[1, 2, 3, 4, 7, 9, 11, 2, 1, 22] 6 11\n",
      "[1, 2, 3, 4, 7, 9, 2, 11, 1, 22] 7 11\n",
      "[1, 2, 3, 4, 7, 9, 2, 1, 11, 22] 8 11\n",
      "[1, 2, 3, 4, 7, 9, 2, 1, 11, 22] 0 1\n",
      "[1, 2, 3, 4, 7, 9, 2, 1, 11, 22] 1 2\n",
      "[1, 2, 3, 4, 7, 9, 2, 1, 11, 22] 2 3\n",
      "[1, 2, 3, 4, 7, 9, 2, 1, 11, 22] 3 4\n",
      "[1, 2, 3, 4, 7, 9, 2, 1, 11, 22] 4 7\n",
      "[1, 2, 3, 4, 7, 9, 2, 1, 11, 22] 5 9\n",
      "[1, 2, 3, 4, 7, 2, 9, 1, 11, 22] 6 9\n",
      "[1, 2, 3, 4, 7, 2, 1, 9, 11, 22] 7 9\n",
      "[1, 2, 3, 4, 7, 2, 1, 9, 11, 22] 8 11\n",
      "[1, 2, 3, 4, 7, 2, 1, 9, 11, 22] 0 1\n",
      "[1, 2, 3, 4, 7, 2, 1, 9, 11, 22] 1 2\n",
      "[1, 2, 3, 4, 7, 2, 1, 9, 11, 22] 2 3\n",
      "[1, 2, 3, 4, 7, 2, 1, 9, 11, 22] 3 4\n",
      "[1, 2, 3, 4, 7, 2, 1, 9, 11, 22] 4 7\n",
      "[1, 2, 3, 4, 2, 7, 1, 9, 11, 22] 5 7\n",
      "[1, 2, 3, 4, 2, 1, 7, 9, 11, 22] 6 7\n",
      "[1, 2, 3, 4, 2, 1, 7, 9, 11, 22] 7 9\n",
      "[1, 2, 3, 4, 2, 1, 7, 9, 11, 22] 8 11\n",
      "[1, 2, 3, 4, 2, 1, 7, 9, 11, 22] 0 1\n",
      "[1, 2, 3, 4, 2, 1, 7, 9, 11, 22] 1 2\n",
      "[1, 2, 3, 4, 2, 1, 7, 9, 11, 22] 2 3\n",
      "[1, 2, 3, 4, 2, 1, 7, 9, 11, 22] 3 4\n",
      "[1, 2, 3, 2, 4, 1, 7, 9, 11, 22] 4 4\n",
      "[1, 2, 3, 2, 1, 4, 7, 9, 11, 22] 5 4\n",
      "[1, 2, 3, 2, 1, 4, 7, 9, 11, 22] 6 7\n",
      "[1, 2, 3, 2, 1, 4, 7, 9, 11, 22] 7 9\n",
      "[1, 2, 3, 2, 1, 4, 7, 9, 11, 22] 8 11\n",
      "[1, 2, 3, 2, 1, 4, 7, 9, 11, 22] 0 1\n",
      "[1, 2, 3, 2, 1, 4, 7, 9, 11, 22] 1 2\n",
      "[1, 2, 3, 2, 1, 4, 7, 9, 11, 22] 2 3\n",
      "[1, 2, 2, 3, 1, 4, 7, 9, 11, 22] 3 3\n",
      "[1, 2, 2, 1, 3, 4, 7, 9, 11, 22] 4 3\n",
      "[1, 2, 2, 1, 3, 4, 7, 9, 11, 22] 5 4\n",
      "[1, 2, 2, 1, 3, 4, 7, 9, 11, 22] 6 7\n",
      "[1, 2, 2, 1, 3, 4, 7, 9, 11, 22] 7 9\n",
      "[1, 2, 2, 1, 3, 4, 7, 9, 11, 22] 8 11\n",
      "[1, 2, 2, 1, 3, 4, 7, 9, 11, 22] 0 1\n",
      "[1, 2, 2, 1, 3, 4, 7, 9, 11, 22] 1 2\n",
      "[1, 2, 2, 1, 3, 4, 7, 9, 11, 22] 2 2\n",
      "[1, 2, 1, 2, 3, 4, 7, 9, 11, 22] 3 2\n",
      "[1, 2, 1, 2, 3, 4, 7, 9, 11, 22] 4 3\n",
      "[1, 2, 1, 2, 3, 4, 7, 9, 11, 22] 5 4\n",
      "[1, 2, 1, 2, 3, 4, 7, 9, 11, 22] 6 7\n",
      "[1, 2, 1, 2, 3, 4, 7, 9, 11, 22] 7 9\n",
      "[1, 2, 1, 2, 3, 4, 7, 9, 11, 22] 8 11\n",
      "[1, 2, 1, 2, 3, 4, 7, 9, 11, 22] 0 1\n",
      "[1, 2, 1, 2, 3, 4, 7, 9, 11, 22] 1 2\n",
      "[1, 1, 2, 2, 3, 4, 7, 9, 11, 22] 2 2\n",
      "[1, 1, 2, 2, 3, 4, 7, 9, 11, 22] 3 2\n",
      "[1, 1, 2, 2, 3, 4, 7, 9, 11, 22] 4 3\n",
      "[1, 1, 2, 2, 3, 4, 7, 9, 11, 22] 5 4\n",
      "[1, 1, 2, 2, 3, 4, 7, 9, 11, 22] 6 7\n",
      "[1, 1, 2, 2, 3, 4, 7, 9, 11, 22] 7 9\n",
      "[1, 1, 2, 2, 3, 4, 7, 9, 11, 22] 8 11\n",
      "[1, 1, 2, 2, 3, 4, 7, 9, 11, 22] 0 1\n",
      "[1, 1, 2, 2, 3, 4, 7, 9, 11, 22] 1 1\n",
      "[1, 1, 2, 2, 3, 4, 7, 9, 11, 22] 2 2\n",
      "[1, 1, 2, 2, 3, 4, 7, 9, 11, 22] 3 2\n",
      "[1, 1, 2, 2, 3, 4, 7, 9, 11, 22] 4 3\n",
      "[1, 1, 2, 2, 3, 4, 7, 9, 11, 22] 5 4\n",
      "[1, 1, 2, 2, 3, 4, 7, 9, 11, 22] 6 7\n",
      "[1, 1, 2, 2, 3, 4, 7, 9, 11, 22] 7 9\n",
      "[1, 1, 2, 2, 3, 4, 7, 9, 11, 22] 8 11\n",
      "[1, 1, 2, 2, 3, 4, 7, 9, 11, 22] 0 1\n",
      "[1, 1, 2, 2, 3, 4, 7, 9, 11, 22] 1 1\n",
      "[1, 1, 2, 2, 3, 4, 7, 9, 11, 22] 2 2\n",
      "[1, 1, 2, 2, 3, 4, 7, 9, 11, 22] 3 2\n",
      "[1, 1, 2, 2, 3, 4, 7, 9, 11, 22] 4 3\n",
      "[1, 1, 2, 2, 3, 4, 7, 9, 11, 22] 5 4\n",
      "[1, 1, 2, 2, 3, 4, 7, 9, 11, 22] 6 7\n",
      "[1, 1, 2, 2, 3, 4, 7, 9, 11, 22] 7 9\n",
      "[1, 1, 2, 2, 3, 4, 7, 9, 11, 22] 8 11\n",
      "[1, 1, 2, 2, 3, 4, 7, 9, 11, 22]\n"
     ]
    }
   ],
   "source": [
    "bubble_sort(arr)\n",
    "print(arr)"
   ]
  },
  {
   "cell_type": "code",
   "execution_count": 116,
   "metadata": {},
   "outputs": [
    {
     "name": "stdout",
     "output_type": "stream",
     "text": [
      "[1, 1, 2, 2, 3, 4, 7, 9, 11, 22]\n"
     ]
    }
   ],
   "source": [
    "arr = merge_sort(arr)\n",
    "print(arr)"
   ]
  },
  {
   "cell_type": "code",
   "execution_count": 11,
   "metadata": {},
   "outputs": [
    {
     "name": "stdout",
     "output_type": "stream",
     "text": [
      "[1, 2, 2, 3, 4, 7, 9, 11, 22]\n"
     ]
    }
   ],
   "source": [
    "quick_sort(arr,0,len(arr)-1)\n",
    "print(arr)"
   ]
  }
 ],
 "metadata": {
  "kernelspec": {
   "display_name": "Python 3",
   "language": "python",
   "name": "python3"
  },
  "language_info": {
   "codemirror_mode": {
    "name": "ipython",
    "version": 3
   },
   "file_extension": ".py",
   "mimetype": "text/x-python",
   "name": "python",
   "nbconvert_exporter": "python",
   "pygments_lexer": "ipython3",
   "version": "3.5.4"
  }
 },
 "nbformat": 4,
 "nbformat_minor": 2
}
