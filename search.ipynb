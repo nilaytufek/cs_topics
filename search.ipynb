{
 "cells": [
  {
   "cell_type": "code",
   "execution_count": null,
   "metadata": {},
   "outputs": [],
   "source": [
    "#bruth force search\n",
    "\n",
    "def (arr,x):\n",
    "    for item in arr:\n",
    "        \n",
    "        if item == x:\n",
    "            return True\n",
    "        return False\n"
   ]
  },
  {
   "cell_type": "code",
   "execution_count": 2,
   "metadata": {},
   "outputs": [],
   "source": [
    "#binary search\n",
    "\n",
    "def binary_search_in_tree(tree,x):\n",
    "    node = tree.root\n",
    "    while True:\n",
    "        if node.value == x.value:\n",
    "            return True\n",
    "        if node.value > x.value:\n",
    "            node = node.right\n",
    "        else:\n",
    "            node = node.left\n",
    "        \n",
    "        return False\n"
   ]
  },
  {
   "cell_type": "code",
   "execution_count": 19,
   "metadata": {},
   "outputs": [
    {
     "name": "stdout",
     "output_type": "stream",
     "text": [
      "True\n",
      "False\n",
      "True\n",
      "True\n"
     ]
    }
   ],
   "source": [
    "#binary search\n",
    "\n",
    "def binary_search_in_aray(arr,x):\n",
    "    mid = int(len(arr)/2)\n",
    "    if len(arr) == 1:\n",
    "        if arr[mid] == x:\n",
    "            return True\n",
    "        else:\n",
    "            return False\n",
    "    if arr[mid] == x:\n",
    "        return True\n",
    "    if arr[mid] < x:\n",
    "        return binary_search_in_aray(arr[mid:],x)\n",
    "    else:\n",
    "        return binary_search_in_aray(arr[:mid],x)\n",
    "testlist = [0, 1, 2, 8, 13, 17, 19, 32, 42]\n",
    "\n",
    "print(binary_search_in_aray(testlist, 17))\n",
    "print(binary_search_in_aray(testlist, 3))\n",
    "print(binary_search_in_aray(testlist, 13))\n",
    "print(binary_search_in_aray(testlist, 42))"
   ]
  },
  {
   "cell_type": "code",
   "execution_count": 20,
   "metadata": {},
   "outputs": [],
   "source": [
    "#breadth first search on trees\n",
    "def breadth_first_search_trees(node,x):\n",
    "    queue=[]\n",
    "    while True:\n",
    "        \n",
    "        if node == \"\":\n",
    "            return False\n",
    "        \n",
    "        if node == x:\n",
    "            return True\n",
    "        if node.left == x:\n",
    "            return True\n",
    "        if node.right == x:\n",
    "            return True\n",
    "        \n",
    "        node = node.left\n",
    "        \n",
    "\n"
   ]
  },
  {
   "cell_type": "code",
   "execution_count": null,
   "metadata": {},
   "outputs": [],
   "source": [
    "greedy search = uniform cost search"
   ]
  },
  {
   "cell_type": "code",
   "execution_count": null,
   "metadata": {},
   "outputs": [],
   "source": [
    "#depth-first search\n"
   ]
  },
  {
   "cell_type": "code",
   "execution_count": null,
   "metadata": {},
   "outputs": [],
   "source": [
    "#best first search \n",
    "f(n) = h(n)\n",
    "greedy?!\n",
    "admissable heuristic! = üçgen eşitsizliği"
   ]
  },
  {
   "cell_type": "code",
   "execution_count": null,
   "metadata": {},
   "outputs": [],
   "source": [
    "#(dijikstra)\n",
    "surekli güncelle\n",
    "a*'ın g(n) olması hep"
   ]
  },
  {
   "cell_type": "code",
   "execution_count": null,
   "metadata": {},
   "outputs": [],
   "source": [
    "#A*\n",
    "f(n) = g(n)+h(n)"
   ]
  },
  {
   "cell_type": "code",
   "execution_count": null,
   "metadata": {},
   "outputs": [],
   "source": [
    "divide and concure sub probmei bir kere hesaplar geçer ama dynamic programming de bu sub problem resultlara tekrar ihtiyacıız olır! \n",
    "dynamic programming:\n",
    "    fibonacci series!\n",
    "     used when solutions of same subproblems are needed again and again.\n"
   ]
  }
 ],
 "metadata": {
  "kernelspec": {
   "display_name": "Python 3",
   "language": "python",
   "name": "python3"
  },
  "language_info": {
   "codemirror_mode": {
    "name": "ipython",
    "version": 3
   },
   "file_extension": ".py",
   "mimetype": "text/x-python",
   "name": "python",
   "nbconvert_exporter": "python",
   "pygments_lexer": "ipython3",
   "version": "3.5.4"
  }
 },
 "nbformat": 4,
 "nbformat_minor": 2
}
