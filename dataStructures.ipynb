{
 "cells": [
  {
   "cell_type": "code",
   "execution_count": 16,
   "metadata": {},
   "outputs": [
    {
     "name": "stdout",
     "output_type": "stream",
     "text": [
      "[3, 4, 5]\n",
      "5\n",
      "4\n",
      "3\n"
     ]
    }
   ],
   "source": [
    "#stack\n",
    "\n",
    "class Stack:\n",
    "    \n",
    "    def push(self,val):\n",
    "        self.arr.append(val)\n",
    "        \n",
    "    def pop(self):\n",
    "        return self.arr.pop()\n",
    "    \n",
    "s1=Stack()\n",
    "s1.push(3)\n",
    "s1.push(4)  \n",
    "s1.push(5)\n",
    "print(s1.arr)\n",
    "print(s1.pop())\n",
    "print(s1.pop())\n",
    "print(s1.pop())   \n"
   ]
  },
  {
   "cell_type": "code",
   "execution_count": 20,
   "metadata": {},
   "outputs": [
    {
     "name": "stdout",
     "output_type": "stream",
     "text": [
      "[5, 4, 3]\n",
      "3\n",
      "4\n",
      "5\n"
     ]
    }
   ],
   "source": [
    "#queue\n",
    "\n",
    "class Queue:\n",
    "    \n",
    "    arr=[]\n",
    "    def enqueue(self,val):\n",
    "        \n",
    "        self.arr.insert(0,val)\n",
    "        \n",
    "    def dequeue(self):\n",
    "        return self.arr.pop()\n",
    "        \n",
    "    \n",
    "s1=Queue()\n",
    "s1.enqueue(3)\n",
    "s1.enqueue(4)  \n",
    "s1.enqueue(5)\n",
    "print(s1.arr)\n",
    "print(s1.dequeue())\n",
    "print(s1.dequeue())\n",
    "print(s1.dequeue())   \n"
   ]
  },
  {
   "cell_type": "code",
   "execution_count": 79,
   "metadata": {},
   "outputs": [
    {
     "name": "stdout",
     "output_type": "stream",
     "text": [
      "3 4 5\n",
      "3 4\n",
      "4\n"
     ]
    }
   ],
   "source": [
    "#linked list\n",
    "\n",
    "class Node:\n",
    "\n",
    "    def __init__ (self,val=None):\n",
    "        self.data = val\n",
    "        self.next_node = None\n",
    "\n",
    "class LinkedList:\n",
    "    \n",
    "    def __init__(self):        \n",
    "        self.head = Node()\n",
    "    \n",
    "    \n",
    "    def Add(self, val):        \n",
    "        new_node = Node(val)\n",
    "        if self.head.data == None:\n",
    "            self.head = new_node\n",
    "            return\n",
    "        \n",
    "        tmp = self.head        \n",
    "        while tmp.next_node!=None:\n",
    "            tmp=tmp.next_node\n",
    "        tmp.next_node = new_node\n",
    "    \n",
    "    def Remove(self, val):\n",
    "        \n",
    "        tmp = self.head\n",
    "        tmpPrev = None\n",
    "        if self.head.data == val:\n",
    "            self.head = self.head.next_node\n",
    "            return\n",
    "        \n",
    "        while tmp.next_node != None:\n",
    "            \n",
    "            if tmp.data == val:  \n",
    "                if tmp.next_node == None:\n",
    "                    tmpPrev.next_node = None\n",
    "                else:\n",
    "                    tmpPrev.next_node = tmp.next_node\n",
    "                return\n",
    "            \n",
    "            tmpPrev = tmp\n",
    "            tmp=tmp.next_node\n",
    "            \n",
    "    def RemoveAfter(self,valRef):\n",
    "        if valRef.next_node == None:\n",
    "            print(\"null\")\n",
    "        if valRef.next_node.next_node==None:\n",
    "            valRef.next_node = None\n",
    "            return\n",
    "        \n",
    "        valRef.next_node = valRef.next_node.next_node\n",
    "        \n",
    "        \n",
    "    def InsertAfter(self,valRef,val):\n",
    "        new_node = Node(val)        \n",
    "        \n",
    "        if valRef.next_node == None:\n",
    "            valRef.next_node = new_node\n",
    "            return\n",
    "        new_node = valRef.next_node\n",
    "        valRef.next_node = new_node\n",
    "        \n",
    "               \n",
    "        \n",
    "    \n",
    "\n",
    "ls = LinkedList()\n",
    "ls.Add(3)\n",
    "ls.Add(4)\n",
    "ls.Add(5)\n",
    "print(ls.head.data,ls.head.next_node.data,ls.head.next_node.next_node.data)\n",
    "nodee = ls.head.next_node\n",
    "ls.RemoveAfter(nodee)\n",
    "print(ls.head.data,ls.head.next_node.data)\n",
    "ls.Remove(3)\n",
    "print(ls.head.data)\n",
    "ls.Remove(5)\n",
    "\n",
    "    "
   ]
  },
  {
   "cell_type": "code",
   "execution_count": 111,
   "metadata": {},
   "outputs": [
    {
     "name": "stdout",
     "output_type": "stream",
     "text": [
      "[None, None, None, None, None, None, None, None, None, None]\n",
      "\n",
      "\n",
      "\n",
      "[None, None, [2], [3, 13], None, None, None, None, None, None]\n",
      "True\n",
      "True\n",
      "True\n"
     ]
    }
   ],
   "source": [
    "#hash table\n",
    "class HashTable:\n",
    "    \n",
    "    def __init__ (self):\n",
    "        self.arr = [None]*10\n",
    "    def find_hash(self,val):\n",
    "        return val%10\n",
    "    \n",
    "    def add(self,val):\n",
    "        index = val%10\n",
    "        print()\n",
    "        if self.arr[index] == None:\n",
    "            self.arr[index] = []\n",
    "        self.arr[index].append(val)\n",
    "    def search(self,val):\n",
    "        \n",
    "        if self.arr[val%10] != None:\n",
    "            return True\n",
    "        return False\n",
    "    \n",
    "\n",
    "ht = HashTable()\n",
    "print(ht.arr)\n",
    "ht.add(3)\n",
    "ht.add(2)\n",
    "ht.add(13)\n",
    "print(ht.arr)\n",
    "print(ht.search(3))\n",
    "print(ht.search(13))\n",
    "print(ht.search(2))"
   ]
  },
  {
   "cell_type": "code",
   "execution_count": 3,
   "metadata": {},
   "outputs": [
    {
     "name": "stdout",
     "output_type": "stream",
     "text": [
      "{1: 2}\n"
     ]
    },
    {
     "ename": "KeyError",
     "evalue": "2",
     "output_type": "error",
     "traceback": [
      "\u001b[1;31m---------------------------------------------------------------------------\u001b[0m",
      "\u001b[1;31mKeyError\u001b[0m                                  Traceback (most recent call last)",
      "\u001b[1;32m<ipython-input-3-dd3b16d7c350>\u001b[0m in \u001b[0;36m<module>\u001b[1;34m()\u001b[0m\n\u001b[0;32m      4\u001b[0m \u001b[0mD\u001b[0m\u001b[1;33m[\u001b[0m\u001b[1;36m1\u001b[0m\u001b[1;33m]\u001b[0m\u001b[1;33m=\u001b[0m\u001b[1;36m2\u001b[0m\u001b[1;33m\u001b[0m\u001b[0m\n\u001b[0;32m      5\u001b[0m \u001b[0mprint\u001b[0m\u001b[1;33m(\u001b[0m\u001b[0mD\u001b[0m\u001b[1;33m)\u001b[0m\u001b[1;33m\u001b[0m\u001b[0m\n\u001b[1;32m----> 6\u001b[1;33m \u001b[0mprint\u001b[0m\u001b[1;33m(\u001b[0m\u001b[0mD\u001b[0m\u001b[1;33m[\u001b[0m\u001b[1;36m2\u001b[0m\u001b[1;33m]\u001b[0m\u001b[1;33m)\u001b[0m\u001b[1;33m\u001b[0m\u001b[0m\n\u001b[0m",
      "\u001b[1;31mKeyError\u001b[0m: 2"
     ]
    }
   ],
   "source": [
    "#hash dictionaries\n",
    "D={}\n",
    "\n",
    "D[1]=2\n",
    "print(D)\n"
   ]
  }
 ],
 "metadata": {
  "kernelspec": {
   "display_name": "Python 3",
   "language": "python",
   "name": "python3"
  },
  "language_info": {
   "codemirror_mode": {
    "name": "ipython",
    "version": 3
   },
   "file_extension": ".py",
   "mimetype": "text/x-python",
   "name": "python",
   "nbconvert_exporter": "python",
   "pygments_lexer": "ipython3",
   "version": "3.6.5"
  }
 },
 "nbformat": 4,
 "nbformat_minor": 2
}
