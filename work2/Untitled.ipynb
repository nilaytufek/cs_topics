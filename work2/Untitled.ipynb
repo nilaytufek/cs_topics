{
 "cells": [
  {
   "cell_type": "code",
   "execution_count": 9,
   "metadata": {},
   "outputs": [
    {
     "data": {
      "text/plain": [
       "13"
      ]
     },
     "execution_count": 9,
     "metadata": {},
     "output_type": "execute_result"
    }
   ],
   "source": [
    "def fibo_rec(n):\n",
    "    \n",
    "    if n<=1:\n",
    "        return 1\n",
    "    \n",
    "    return fibo_rec(n-1) +fibo_rec(n-2)\n",
    "\n",
    "fibo_rec(6) \n",
    "    "
   ]
  },
  {
   "cell_type": "code",
   "execution_count": 15,
   "metadata": {},
   "outputs": [
    {
     "data": {
      "text/plain": [
       "13"
      ]
     },
     "execution_count": 15,
     "metadata": {},
     "output_type": "execute_result"
    }
   ],
   "source": [
    "f=[1]*300\n",
    "\n",
    "def fibo_dp(n):\n",
    "    \n",
    "    for i in range(2,n+1):\n",
    "        \n",
    "        f[i] = f[i-1] + f[i-2]\n",
    "    return f[n]\n",
    "   \n",
    "fibo_dp(6)\n"
   ]
  },
  {
   "cell_type": "code",
   "execution_count": 19,
   "metadata": {},
   "outputs": [
    {
     "data": {
      "text/plain": [
       "120"
      ]
     },
     "execution_count": 19,
     "metadata": {},
     "output_type": "execute_result"
    }
   ],
   "source": [
    "def fact_rec(n):\n",
    "    \n",
    "    if n<=1:\n",
    "        return 1\n",
    "    \n",
    "    return n*fact_rec(n-1)\n",
    "    \n",
    "    \n",
    "fact_rec(5)    \n",
    "    "
   ]
  },
  {
   "cell_type": "code",
   "execution_count": 28,
   "metadata": {},
   "outputs": [
    {
     "data": {
      "text/plain": [
       "120"
      ]
     },
     "execution_count": 28,
     "metadata": {},
     "output_type": "execute_result"
    }
   ],
   "source": [
    "f=[1]*300\n",
    "f[0]=1\n",
    "f[1]=1\n",
    "def fact_dp(n):\n",
    "    \n",
    "    for i in range(2,n+1):\n",
    "        f[i] = i*f[i-1]\n",
    "    return f[n]\n",
    "fact_dp(5)"
   ]
  },
  {
   "cell_type": "code",
   "execution_count": 54,
   "metadata": {},
   "outputs": [
    {
     "name": "stdout",
     "output_type": "stream",
     "text": [
      "[[1. 0. 0.]\n",
      " [0. 0. 0.]\n",
      " [0. 0. 0.]]\n",
      "[[1. 3. 6.]\n",
      " [5. 0. 0.]\n",
      " [6. 0. 0.]]\n",
      "[[ 1.  3.  6.]\n",
      " [ 5.  9.  5.]\n",
      " [ 6. 10.  8.]]\n",
      "8.0\n"
     ]
    }
   ],
   "source": [
    "#find path\n",
    "import numpy as np\n",
    "cost= [ [1, 2, 3], \n",
    "        [4, 8, 2], \n",
    "        [1, 5, 3] ] \n",
    "\n",
    "def find_path(n,m):\n",
    "    r=len(cost)\n",
    "    c=len(cost[0])\n",
    "    mem = np.zeros((r,c))\n",
    "    mem[0][0]=cost[0][0]\n",
    "    print(mem)\n",
    "    for i in range(1,r):\n",
    "        mem[i][0] = cost[i][0] + mem[i-1][0] \n",
    "        \n",
    "    for j in range(1,c):\n",
    "        mem[0][j] = cost[0][j] + mem[0][j-1] \n",
    "    print(mem)\n",
    "    for i in range(1,n+1):        \n",
    "        for j in range(1,m+1):            \n",
    "            mem[i][j] = cost[i][j] + min(mem[i-1][j],mem[i][j-1],mem[i-1][j-1])\n",
    "    print(mem)\n",
    "    print(mem[n][m])     \n",
    "    \n",
    "\n",
    "find_path(2,2)\n"
   ]
  },
  {
   "cell_type": "code",
   "execution_count": 60,
   "metadata": {},
   "outputs": [
    {
     "data": {
      "text/plain": [
       "8"
      ]
     },
     "execution_count": 60,
     "metadata": {},
     "output_type": "execute_result"
    }
   ],
   "source": [
    "def find_path_rec(n,m):\n",
    "    \n",
    "    if n<0 or m<0:\n",
    "        return 10000\n",
    "    if n==0 and m==0:\n",
    "        return cost[0][0]\n",
    "    if n == 0:        \n",
    "        return cost[n][m] + find_path_rec(n,m-1)\n",
    "    if m == 0:        \n",
    "        return cost[n][m] + find_path_rec(n-1,m)\n",
    "    \n",
    "    return cost[n][m] + min(find_path_rec(n-1,m),find_path_rec(n,m-1),find_path_rec(n-1,m-1))\n",
    "    \n",
    "find_path_rec(2,2)  \n",
    "    \n",
    "    \n",
    "    "
   ]
  },
  {
   "cell_type": "code",
   "execution_count": 72,
   "metadata": {},
   "outputs": [
    {
     "name": "stdout",
     "output_type": "stream",
     "text": [
      "1 0\n",
      "3 2\n",
      "[[0. 0. 0.]\n",
      " [1. 1. 1.]\n",
      " [1. 1. 1.]\n",
      " [1. 1. 2.]\n",
      " [1. 1. 2.]]\n"
     ]
    },
    {
     "data": {
      "text/plain": [
       "2.0"
      ]
     },
     "execution_count": 72,
     "metadata": {},
     "output_type": "execute_result"
    }
   ],
   "source": [
    "def LCS(arr1,arr2):\n",
    "    \n",
    "    mem = np.zeros((len(arr1),len(arr2)))\n",
    "    \n",
    "    for i in range(len(arr1)):\n",
    "        \n",
    "        for j in range(len(arr2)):           \n",
    "            if i==0 and j==0:\n",
    "                mem[i][j] = 0\n",
    "            elif i==0:\n",
    "                mem[i][j] = mem[i][j-1]\n",
    "            elif j==0:\n",
    "                mem[i][j] = mem[i-1][j]\n",
    "            else:\n",
    "                mem[i][j] = max(mem[i-1][j],mem[i][j-1])                \n",
    "            if arr1[i] == arr2[j]:   \n",
    "                print(i,j)\n",
    "                mem[i][j] += 1\n",
    "    print(mem)    \n",
    "    return mem[-1][-1]          \n",
    "    \n",
    "arr1=\"acbgh\"\n",
    "arr2=\"cdg\"\n",
    "\n",
    "LCS(arr1,arr2)\n",
    "    \n",
    "    \n",
    "    "
   ]
  },
  {
   "cell_type": "code",
   "execution_count": null,
   "metadata": {},
   "outputs": [],
   "source": [
    "def LCS"
   ]
  }
 ],
 "metadata": {
  "kernelspec": {
   "display_name": "Python 3",
   "language": "python",
   "name": "python3"
  },
  "language_info": {
   "codemirror_mode": {
    "name": "ipython",
    "version": 3
   },
   "file_extension": ".py",
   "mimetype": "text/x-python",
   "name": "python",
   "nbconvert_exporter": "python",
   "pygments_lexer": "ipython3",
   "version": "3.5.4"
  }
 },
 "nbformat": 4,
 "nbformat_minor": 2
}
